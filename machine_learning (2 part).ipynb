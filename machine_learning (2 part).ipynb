{
 "cells": [
  {
   "cell_type": "markdown",
   "metadata": {},
   "source": [
    "# Глава 2: Загрузка данных\n",
    "\n",
    "Введение: Первым шагом в любом начинании в области машинного самообучения является введение исходных данных в нашу систему. Сырые данные могут быть файлом журнала операций, файлом набора данных или базой данных. \n",
    "\n",
    "Кроме того, часто требуется получить данные из нескольких источников. Рецепты в этой главе обра­щаются к методам загрузки данных из различных источников, включая CSV-файлы и базы данных SQL. \n",
    "\n",
    "Мы также рассмотрим методы генерирования симулирован­ ных данных с желаемыми для экспериментов свойствами. Наконец, хотя существу­ет много способов загрузки данных в экосистему Python, мы сосредоточимся на использовании обширного набора методов библиотеки pandas для загрузки внеш­них данных и использовании scikit-leam — библиотеки машинного самообучения с открытым исходным кодом — для генерирования симулированных данных."
   ]
  },
  {
   "cell_type": "markdown",
   "metadata": {},
   "source": [
    "# 2.1 Загрузка образца набора данных\n"
   ]
  },
  {
   "cell_type": "code",
   "execution_count": 1,
   "metadata": {},
   "outputs": [
    {
     "name": "stdout",
     "output_type": "stream",
     "text": [
      "[5.1 3.5 1.4 0.2]\n"
     ]
    }
   ],
   "source": [
    "# Загрузить наборы данных scikit-learn\n",
    "from sklearn import datasets\n",
    "\n",
    "# Загрузить набор изображений рукописных цифр\n",
    "digits = datasets.load_iris()\n",
    "\n",
    "# Создать матрицу признаков\n",
    "features = digits.data\n",
    "\n",
    "# Создать вектор цели\n",
    "target = digits.target\n",
    "\n",
    "# Взглянуть на первое изображение\n",
    "print(features[0])"
   ]
  },
  {
   "cell_type": "markdown",
   "metadata": {},
   "source": [
    "# 2.2 Создание симулированного набора данных\n"
   ]
  },
  {
   "cell_type": "code",
   "execution_count": 2,
   "metadata": {},
   "outputs": [
    {
     "name": "stdout",
     "output_type": "stream",
     "text": [
      "Матрица признаков\n",
      " [[ 1.29322588 -0.61736206 -0.11044703]\n",
      " [-2.793085    0.36633201  1.93752881]\n",
      " [ 0.80186103 -0.18656977  0.0465673 ]]\n",
      "Вектор целей\n",
      " [-10.37865986  25.5124503   19.67705609]\n"
     ]
    }
   ],
   "source": [
    "# Создать набор данных, предназначенный для использования с лин-ой регрессией\n",
    "from sklearn.datasets import make_regression\n",
    "\n",
    "# Сгенерировать матрицу признаков, вектор целей и истинные коэф-ты\n",
    "features2, target2, coefficients = make_regression(n_samples=100,\n",
    "                                                   n_features=3,\n",
    "                                                   n_informative=3,\n",
    "                                                   n_targets=1,\n",
    "                                                   noise=0,\n",
    "                                                   coef=True,\n",
    "                                                   random_state=1)\n",
    "\n",
    "# Взглянуть на матрицу признаков и вектор целей (Лин-ая регрессия)\n",
    "print('Матрица признаков\\n', features2[:3])\n",
    "print('Вектор целей\\n', target2[:3])"
   ]
  },
  {
   "cell_type": "code",
   "execution_count": 3,
   "metadata": {},
   "outputs": [
    {
     "name": "stdout",
     "output_type": "stream",
     "text": [
      "Матрица признаков\n",
      " [[ 1.06354768 -1.42632219  1.02163151]\n",
      " [ 0.23156977  1.49535261  0.33251578]\n",
      " [ 0.15972951  0.83533515 -0.40869554]]\n",
      "Вектор целей\n",
      " [1 0 0]\n"
     ]
    }
   ],
   "source": [
    "# Создать симулированный набор данных для задачи классификации\n",
    "from sklearn.datasets import make_classification\n",
    "\n",
    "# Сгенерировать матрицу признаков и вектор целей\n",
    "features3, target3 = make_classification(n_samples=100,\n",
    "                                         n_features=3,\n",
    "                                         n_informative=3,\n",
    "                                         n_redundant=0,\n",
    "                                         n_classes=2,\n",
    "                                         weights=[.25, .75],\n",
    "                                         random_state=1)\n",
    "\n",
    "# Взглянуть на матрицу признаков и вектор целей (Классификация)\n",
    "print('Матрица признаков\\n', features3[:3])\n",
    "print('Вектор целей\\n', target3[:3])"
   ]
  },
  {
   "cell_type": "code",
   "execution_count": 4,
   "metadata": {},
   "outputs": [
    {
     "name": "stdout",
     "output_type": "stream",
     "text": [
      "Матрица признаков\n",
      " [[-1.92364578  3.87000556]\n",
      " [-1.22685609  3.25572052]\n",
      " [-0.78715402  4.02588642]]\n",
      "Вектор целей\n",
      " [0 0 0]\n"
     ]
    }
   ],
   "source": [
    "# Создать набор данных, который хорошо функционирует с кластеризующими методами\n",
    "# библиотека для создания предлагает метод создания скоплений точек\n",
    "\n",
    "from sklearn.datasets import make_blobs\n",
    "\n",
    "# Сгенерировать матрицу признаков и вектор целей\n",
    "features4, target4 = make_blobs(n_samples=100,\n",
    "                                n_features=2,\n",
    "                                centers=3,\n",
    "                                cluster_std=0.5,\n",
    "                                shuffle=False,\n",
    "                                random_state=1)\n",
    "\n",
    "# Взглянуть на матрицу признаков и вектор целей (Кластеризующие методы)\n",
    "print('Матрица признаков\\n', features4[:3])\n",
    "print('Вектор целей\\n', target4[:3])"
   ]
  },
  {
   "cell_type": "code",
   "execution_count": 5,
   "metadata": {},
   "outputs": [
    {
     "data": {
      "image/png": "[encoded data removed]",
      "text/plain": [
       "<Figure size 640x480 with 1 Axes>"
      ]
     },
     "metadata": {},
     "output_type": "display_data"
    }
   ],
   "source": [
    "import matplotlib.pyplot as plt\n",
    "\n",
    "# Взглянуть на диаграмму расселения\n",
    "plt.scatter(features4[:, 0], features4[:, 1], c=target4)\n",
    "plt.show()"
   ]
  },
  {
   "cell_type": "markdown",
   "metadata": {},
   "source": [
    "# 2.3 Загрузка файлов CSV\n",
    "\n"
   ]
  },
  {
   "cell_type": "code",
   "execution_count": null,
   "metadata": {},
   "outputs": [],
   "source": [
    "import pandas as pd\n",
    "\n",
    "# Создать URL-адрес\n",
    "url = 'https://tinyurl.com/simulated-data'\n",
    "\n",
    "# Загрузить набор данных\n",
    "dataframe = pd.read_csv(url)\n",
    "\n",
    "# Взглянуть на первые две строки\n",
    "print(dataframe.head(2))"
   ]
  },
  {
   "cell_type": "markdown",
   "metadata": {},
   "source": [
    "# 2.4 Загрузка данных Excel\n"
   ]
  },
  {
   "cell_type": "code",
   "execution_count": null,
   "metadata": {},
   "outputs": [],
   "source": [
    "import pandas as pd\n",
    "\n",
    "# Создать URL-адрес\n",
    "url2 = 'https://tinyurl.com/simulated-excel'\n",
    "\n",
    "# Загрузить данные для считывания файла Excel\n",
    "dataframe2 = pd.read_excel(url, sheet_name=0, header=1)\n",
    "\n",
    "# Взглянуть на первые две строки\n",
    "print(dataframe.head(2))"
   ]
  },
  {
   "cell_type": "markdown",
   "metadata": {},
   "source": [
    "# 2.5 Загрзука данных JSON\n",
    "\n"
   ]
  },
  {
   "cell_type": "code",
   "execution_count": null,
   "metadata": {},
   "outputs": [],
   "source": [
    "import pandas as pd\n",
    "\n",
    "# Создать URL-адрес\n",
    "url3 = 'https://tinyurl.com/simulated-json'\n",
    "\n",
    "# Загрузить данные из JSON файла\n",
    "dataframe3 = pd.read_json(url, orient='columns')\n",
    "\n",
    "# Взглянуть на первые две строки\n",
    "print(dataframe3.head(2))"
   ]
  },
  {
   "cell_type": "markdown",
   "metadata": {},
   "source": [
    "# 2.6 Опрашивание базы данных SQL\n",
    "\n"
   ]
  },
  {
   "cell_type": "code",
   "execution_count": null,
   "metadata": {},
   "outputs": [],
   "source": [
    "import pandas as pd\n",
    "from sqlalchemy import create_engine\n",
    "\n",
    "# Создать подключение к базе данных\n",
    "database_connection = create_engine('sqlite:///sample.db')\n",
    "\n",
    "# Загрузить данные\n",
    "dataframe4 = pd.read_sql_query('SELECT * FROM data', database_connection)\n",
    "\n",
    "# Взглянуть на первые две строки\n",
    "print(dataframe4.head(2))"
   ]
  }
 ],
 "metadata": {
  "kernelspec": {
   "display_name": "Python 3",
   "language": "python",
   "name": "python3"
  },
  "language_info": {
   "codemirror_mode": {
    "name": "ipython",
    "version": 3
   },
   "file_extension": ".py",
   "mimetype": "text/x-python",
   "name": "python",
   "nbconvert_exporter": "python",
   "pygments_lexer": "ipython3",
   "version": "3.11.2"
  }
 },
 "nbformat": 4,
 "nbformat_minor": 2
}
