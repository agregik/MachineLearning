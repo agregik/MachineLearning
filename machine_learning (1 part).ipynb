{
 "cells": [
  {
   "cell_type": "markdown",
   "metadata": {},
   "source": [
    "# 1.1 \n"
   ]
  },
  {
   "cell_type": "code",
   "execution_count": 2,
   "metadata": {},
   "outputs": [],
   "source": [
    "import numpy as np\n",
    "\n",
    "# Создать вектор как строку\n",
    "vector_row = np.array([1, 2, 3])\n",
    "# Создать вектор как столбец\n",
    "vector_column = np.array([[1],\n",
    "                          [2],\n",
    "                          [3]])\n",
    "\n",
    "# Создать матрицу\n",
    "matrix = np.array([[1, 2],\n",
    "                   [1, 2],\n",
    "                   [1, 2]])\n",
    "\n",
    "matrix_object = np.mat([[1, 2],\n",
    "                        [1, 2],\n",
    "                        [1, 2]])"
   ]
  },
  {
   "cell_type": "markdown",
   "metadata": {},
   "source": [
    "# 1.2"
   ]
  },
  {
   "cell_type": "code",
   "execution_count": 6,
   "metadata": {},
   "outputs": [
    {
     "name": "stdout",
     "output_type": "stream",
     "text": [
      "  (1, 1)\t1\n",
      "  (2, 0)\t3\n",
      "  (1, 1)\t1\n",
      "  (2, 0)\t3\n"
     ]
    }
   ],
   "source": [
    "# Загрузить библиотеку\n",
    "from scipy import sparse\n",
    "\n",
    "# Создать матрицу\n",
    "matrix2 = np.array([[0, 0],\n",
    "                    [0, 1],\n",
    "                    [3, 0]])\n",
    "\n",
    "# Создать разреженную матрицу - строку (CSR - матрицу)\n",
    "matrix_sparse = sparse.csr_matrix(matrix2)\n",
    "\n",
    "\n",
    "\n",
    "\n",
    "# Создать более крупную разреженную матрицу - строку, но сначала создадим обычную матрицу\n",
    "\n",
    "matrix_larger = ([[0, 0, 0, 0, 0, 0, 0, 0, 0],\n",
    "                  [0, 1, 0, 0, 0, 0, 0, 0, 0],\n",
    "                  [3, 0, 0, 0, 0, 0, 0, 0, 0]])\n",
    "\n",
    "matrix_larger_sparse = sparse.csr_matrix(matrix_larger)\n",
    "\n",
    "# Взглянуть на исходную разреженную матрицу\n",
    "print(matrix_sparse)\n",
    "\n",
    "# Взглянуть на более крупную разреженную матрицу\n",
    "print(matrix_larger_sparse)"
   ]
  },
  {
   "cell_type": "markdown",
   "metadata": {},
   "source": [
    "# 1.4 Выбор элементов\n"
   ]
  },
  {
   "cell_type": "code",
   "execution_count": 7,
   "metadata": {},
   "outputs": [
    {
     "name": "stdout",
     "output_type": "stream",
     "text": [
      "3\n",
      "5\n"
     ]
    }
   ],
   "source": [
    "import numpy as np\n",
    "\n",
    "# Создать вектор - строку\n",
    "vector = np.array([1, 2, 3, 4, 5, 6])\n",
    "\n",
    "# Создать матрицу\n",
    "matrix4 = np.array([[1, 2, 3],\n",
    "                    [4, 5, 6],\n",
    "                    [7, 8, 9]])\n",
    "\n",
    "# Выбрать 3 элемент в векторе\n",
    "print(vector[2])\n",
    "\n",
    "# Выбрать вторую строку второй элемент в матрице\n",
    "print(matrix4[1, 1])"
   ]
  },
  {
   "cell_type": "markdown",
   "metadata": {},
   "source": [
    "# 1.5 Описание матрицы\n"
   ]
  },
  {
   "cell_type": "code",
   "execution_count": 8,
   "metadata": {},
   "outputs": [
    {
     "name": "stdout",
     "output_type": "stream",
     "text": [
      "(3, 4)\n",
      "12\n",
      "2\n"
     ]
    }
   ],
   "source": [
    "import numpy as np\n",
    "\n",
    "# Создать матрицу\n",
    "matrix5 = np.array([[1, 2, 3, 4],\n",
    "                    [5, 6, 7, 8],\n",
    "                    [9, 10, 11, 12]])\n",
    "\n",
    "# Взглянуть на кол - во строк и столбцов\n",
    "print(matrix5.shape)\n",
    "\n",
    "# Взглянуть на кол - во элементов (строки * столбцы)\n",
    "print(matrix5.size)\n",
    "\n",
    "# Взглянуть на кол - во размерностей\n",
    "print(matrix5.ndim)"
   ]
  },
  {
   "cell_type": "markdown",
   "metadata": {},
   "source": [
    "# 1.6 Применение операций к елементам\n"
   ]
  },
  {
   "cell_type": "code",
   "execution_count": 9,
   "metadata": {},
   "outputs": [
    {
     "name": "stdout",
     "output_type": "stream",
     "text": [
      "[[101 102 103]\n",
      " [104 105 106]\n",
      " [107 108 109]]\n"
     ]
    }
   ],
   "source": [
    "import numpy as np\n",
    "\n",
    "matrix6 = np.array([[1, 2, 3],\n",
    "                    [4, 5, 6],\n",
    "                    [7, 8, 9]])\n",
    "\n",
    "# Make function that add 100 to matrix6\n",
    "add_100 = lambda i: i + 100\n",
    "\n",
    "# Make vectorized function\n",
    "vectorized_add_100 = np.vectorize(add_100)\n",
    "\n",
    "# Add this func to all elements of the matrix\n",
    "vectorized_add_100(matrix6)\n",
    "print(vectorized_add_100(matrix6))"
   ]
  },
  {
   "cell_type": "markdown",
   "metadata": {},
   "source": [
    "# 1.7 Find max or min in array\n"
   ]
  },
  {
   "cell_type": "code",
   "execution_count": 10,
   "metadata": {},
   "outputs": [
    {
     "name": "stdout",
     "output_type": "stream",
     "text": [
      "9\n",
      "1\n",
      "[7 8 9]\n",
      "[3 6 9]\n"
     ]
    }
   ],
   "source": [
    "import numpy as np\n",
    "\n",
    "matrix7 = np.array([[1, 2, 3],\n",
    "                    [4, 5, 6],\n",
    "                    [7, 8, 9]])\n",
    "\n",
    "print(np.max(matrix7))\n",
    "print(np.min(matrix7))\n",
    "\n",
    "# Find max element in every column (Столбец)\n",
    "print(np.max(matrix7, axis=0))\n",
    "\n",
    "# Find max element in every line (Строка)\n",
    "print(np.max(matrix7, axis=1))\n"
   ]
  },
  {
   "cell_type": "markdown",
   "metadata": {},
   "source": [
    "# 1.8 Вычисление среднего значения, дисперсии и стандартного отклонения\n"
   ]
  },
  {
   "cell_type": "code",
   "execution_count": 11,
   "metadata": {},
   "outputs": [
    {
     "name": "stdout",
     "output_type": "stream",
     "text": [
      "Среднее значение:  5.0\n",
      "Дисперсия:  6.666666666666667\n",
      "Среднее отклонение:  2.581988897471611\n",
      "Среднее значение в каждом отдельном столбце:  [4. 5. 6.]\n"
     ]
    }
   ],
   "source": [
    "import numpy as np\n",
    "\n",
    "matrix8 = np.array([[1, 2, 3],\n",
    "                    [4, 5, 6],\n",
    "                    [7, 8, 9]])\n",
    "\n",
    "# Вывести среднее значение\n",
    "print('Среднее значение: ', np.mean(matrix8))\n",
    "\n",
    "# Вернуть дисперсию\n",
    "print('Дисперсия: ', np.var(matrix8))\n",
    "\n",
    "# Вернуть стандартное отклонение\n",
    "print('Среднее отклонение: ', np.std(matrix8))\n",
    "\n",
    "# Найти среднее значение в каждом отдельном столбце\n",
    "print('Среднее значение в каждом отдельном столбце: ', np.mean(matrix8, axis=0))"
   ]
  },
  {
   "cell_type": "markdown",
   "metadata": {},
   "source": [
    "# 1.9 Реформирование массивов\n"
   ]
  },
  {
   "cell_type": "code",
   "execution_count": 14,
   "metadata": {},
   "outputs": [
    {
     "name": "stdout",
     "output_type": "stream",
     "text": [
      "Исходная матрица:  [[ 1  2  3]\n",
      " [ 4  5  6]\n",
      " [ 7  8  9]\n",
      " [10 11 12]]\n",
      "Реформированная матрица:  [[ 1  2  3  4  5  6]\n",
      " [ 7  8  9 10 11 12]]\n",
      "Размер таблицы:  12\n",
      "Строки и столбцы по необходимости:  [[ 1  2  3  4  5  6  7  8  9 10 11 12]]\n",
      "Одномерный массив нужной длины:  [ 1  2  3  4  5  6  7  8  9 10 11 12]\n"
     ]
    }
   ],
   "source": [
    "import numpy as np\n",
    "\n",
    "matrix9 = np.array([[1, 2, 3],\n",
    "                    [4, 5, 6],\n",
    "                    [7, 8, 9],\n",
    "                    [10, 11, 12]])\n",
    "\n",
    "print('Исходная матрица: ', matrix9)\n",
    "\n",
    "# Реформировать таблицу в матрицу 2 * 6\n",
    "print('Реформированная матрица: ', matrix9.reshape(2, 6))\n",
    "\n",
    "# Увидеть размер матрицы\n",
    "print('Размер таблицы: ', matrix9.size)\n",
    "\n",
    "# Увидеть одну строку и столько столбцов, сколько необходимо\n",
    "print('Строки и столбцы по необходимости: ', matrix9.reshape(1, -1))\n",
    "\n",
    "# Увидеть одномерный массив этой длины\n",
    "print('Одномерный массив нужной длины: ', matrix9.reshape(12))"
   ]
  },
  {
   "cell_type": "markdown",
   "metadata": {},
   "source": [
    "# 1.10 Транспортирование вектора в матрицу\n",
    "\n",
    "\n"
   ]
  },
  {
   "cell_type": "code",
   "execution_count": 20,
   "metadata": {},
   "outputs": [
    {
     "name": "stdout",
     "output_type": "stream",
     "text": [
      "Транспонированная матрица: [[1 4 7]\n",
      " [2 5 8]\n",
      " [3 6 9]]\n"
     ]
    }
   ],
   "source": [
    "import numpy as np\n",
    "\n",
    "matrix10 = np.array([[1, 2, 3],\n",
    "                     [4, 5, 6],\n",
    "                     [7, 8, 9]])\n",
    "\n",
    "# Транспонировать матрицу\n",
    "print('Транспонированная матрица:', matrix10.T)"
   ]
  },
  {
   "cell_type": "markdown",
   "metadata": {},
   "source": [
    "# 1.11 Сглаживание матрицы\n"
   ]
  },
  {
   "cell_type": "code",
   "execution_count": 21,
   "metadata": {},
   "outputs": [
    {
     "name": "stdout",
     "output_type": "stream",
     "text": [
      "Сглаженная матрица (Одномерный массив):  [1 2 3 4 5 6 7 8 9]\n"
     ]
    }
   ],
   "source": [
    "import numpy as np\n",
    "\n",
    "matrix11 = np.array([[1, 2, 3],\n",
    "                     [4, 5, 6],\n",
    "                     [7, 8, 9]])\n",
    "\n",
    "# Сгладить матрицу (привести к одномерному массиву)\n",
    "print('Сглаженная матрица (Одномерный массив): ', matrix11.flatten())"
   ]
  },
  {
   "cell_type": "markdown",
   "metadata": {},
   "source": [
    "# 1.12 Нахождение ранга матрицы\n"
   ]
  },
  {
   "cell_type": "code",
   "execution_count": 23,
   "metadata": {},
   "outputs": [
    {
     "name": "stdout",
     "output_type": "stream",
     "text": [
      "Ранг матрицы:  2\n"
     ]
    }
   ],
   "source": [
    "import numpy as np\n",
    "\n",
    "matrix12 = np.array([[1, 1, 1],\n",
    "                     [1, 1, 10],\n",
    "                     [1, 1, 15]])\n",
    "\n",
    "# Вернуть ранг матрицы\n",
    "print('Ранг матрицы: ', np.linalg.matrix_rank(matrix12))"
   ]
  },
  {
   "cell_type": "markdown",
   "metadata": {},
   "source": [
    "# 1.13 Вычисление определителя матрицы\n"
   ]
  },
  {
   "cell_type": "code",
   "execution_count": 24,
   "metadata": {},
   "outputs": [
    {
     "name": "stdout",
     "output_type": "stream",
     "text": [
      "Определитель матрицы:  6.661338147750893e-16\n"
     ]
    }
   ],
   "source": [
    "import numpy as np\n",
    "\n",
    "matrix13 = np.array([[1, 2, 3],\n",
    "                     [2, 4, 6],\n",
    "                     [3, 8, 9]])\n",
    "\n",
    "# Вернуть определитель матрицы\n",
    "print('Определитель матрицы: ', np.linalg.det(matrix13))"
   ]
  },
  {
   "cell_type": "markdown",
   "metadata": {},
   "source": [
    "# 1.14 Получение диагонали матрицы\n"
   ]
  },
  {
   "cell_type": "code",
   "execution_count": 25,
   "metadata": {},
   "outputs": [
    {
     "name": "stdout",
     "output_type": "stream",
     "text": [
      "Диагональные элементы матрицы:  [1 4 9]\n",
      "Диагональ на одну выше главной: [2 6]\n",
      "Диагональ на одну ниже главной: [2 8]\n"
     ]
    }
   ],
   "source": [
    "import numpy as np\n",
    "\n",
    "matrix14 = np.array([[1, 2, 3],\n",
    "                     [2, 4, 6],\n",
    "                     [3, 8, 9]])\n",
    "\n",
    "# Вернуть диагональные элементы\n",
    "print('Диагональные элементы матрицы: ', matrix14.diagonal())\n",
    "\n",
    "# Вернуть диагональ на одну выше главной диагонали\n",
    "print('Диагональ на одну выше главной:', matrix14.diagonal(offset=1))\n",
    "\n",
    "# Вернуть диагональ на одну ниже главной диагонали\n",
    "print('Диагональ на одну ниже главной:', matrix14.diagonal(offset=-1))"
   ]
  },
  {
   "cell_type": "markdown",
   "metadata": {},
   "source": [
    "# 1.15 Вычисление следа матрицы\n"
   ]
  },
  {
   "cell_type": "code",
   "execution_count": 27,
   "metadata": {},
   "outputs": [
    {
     "name": "stdout",
     "output_type": "stream",
     "text": [
      "След матрицы:  14\n",
      "След матрциы через сумму эл-ов главной диаг-ли:  14\n"
     ]
    }
   ],
   "source": [
    "import numpy as np\n",
    "\n",
    "matrix15 = np.array([[1, 2, 3],\n",
    "                     [2, 4, 6],\n",
    "                     [3, 8, 9]])\n",
    "\n",
    "# Вернуть след\n",
    "print('След матрицы: ', matrix15.trace())\n",
    "\n",
    "# Альтернативный способ вычисления следа матрицы вернув сумму её эл-ов\n",
    "print('След матрциы через сумму эл-ов главной диаг-ли: ',sum(matrix15.diagonal()))"
   ]
  },
  {
   "cell_type": "markdown",
   "metadata": {},
   "source": [
    "# 1.16 Нахождение собственных значений и собственных векторов\n"
   ]
  },
  {
   "cell_type": "code",
   "execution_count": 29,
   "metadata": {},
   "outputs": [
    {
     "name": "stdout",
     "output_type": "stream",
     "text": [
      "Собственные значения:  [13.55075847  0.74003145 -3.29078992]\n",
      "Собственные векторы:  [[-0.17622017 -0.96677403 -0.53373322]\n",
      " [-0.435951    0.2053623  -0.64324848]\n",
      " [-0.88254925  0.15223105  0.54896288]]\n"
     ]
    }
   ],
   "source": [
    "import numpy as np\n",
    "\n",
    "matrix16 = np.array([[1, -1, 3],\n",
    "                     [1, 1, 6],\n",
    "                     [3, 8, 9]])\n",
    "\n",
    "# Вычислить собственные значения и векторы\n",
    "eigenvalues, eigenvectors = np.linalg.eig(matrix16)\n",
    "\n",
    "print('Собственные значения: ', eigenvalues)\n",
    "print('Собственные векторы: ', eigenvectors)"
   ]
  },
  {
   "cell_type": "markdown",
   "metadata": {},
   "source": [
    "# 1.17 Вычисление скалярных произведений\n"
   ]
  },
  {
   "cell_type": "code",
   "execution_count": 31,
   "metadata": {},
   "outputs": [
    {
     "name": "stdout",
     "output_type": "stream",
     "text": [
      "Скалярное произведение векторов:  32\n",
      "Альтернативный способ через @: 32\n"
     ]
    }
   ],
   "source": [
    "import numpy as np\n",
    "\n",
    "vector_a = np.array([1, 2, 3])\n",
    "vector_b = np.array([4, 5, 6])\n",
    "\n",
    "# Вычислить скалярное произведение\n",
    "print('Скалярное произведение векторов: ', np.dot(vector_a,vector_b))\n",
    "\n",
    "# Альтернативный способ нахождения скалярного произведения\n",
    "print('Альтернативный способ через @:', vector_a @ vector_b)"
   ]
  },
  {
   "cell_type": "markdown",
   "metadata": {},
   "source": [
    "# 1.18 Сложение и вычитание матриц\n"
   ]
  },
  {
   "cell_type": "code",
   "execution_count": 33,
   "metadata": {},
   "outputs": [
    {
     "name": "stdout",
     "output_type": "stream",
     "text": [
      "Сложение матриц:  [[ 2  4  2]\n",
      " [ 2  4  2]\n",
      " [ 2  4 10]]\n",
      "Вычитание двух матриц:  [[ 0 -2  0]\n",
      " [ 0 -2  0]\n",
      " [ 0 -2 -6]]\n",
      "Умножение двух матриц: [[ 1  3  1]\n",
      " [ 1  3  1]\n",
      " [ 1  3 16]]\n"
     ]
    }
   ],
   "source": [
    "import numpy as np\n",
    "\n",
    "matrix_a = np.array([[1, 1, 1],\n",
    "                     [1, 1, 1],\n",
    "                     [1, 1, 2]])\n",
    "\n",
    "matrix_b = np.array([[1, 3, 1],\n",
    "                     [1, 3, 1],\n",
    "                     [1, 3, 8]])\n",
    "\n",
    "# Сложить матрицы\n",
    "print('Сложение матриц: ', np.add(matrix_b, matrix_a))\n",
    "\n",
    "#print(matrix_b + matrix_a)\n",
    "\n",
    "# Вычесть из одной матрицу другую\n",
    "print('Вычитание двух матриц: ', matrix_a - matrix_b)\n",
    "\n",
    "#print(np.subtract(matrix_a, matrix_b))\n",
    "\n",
    "# Умножить одну матрицу на другую\n",
    "print('Умножение двух матриц:', matrix_a * matrix_b)"
   ]
  },
  {
   "cell_type": "markdown",
   "metadata": {},
   "source": [
    "# 1.20 Обращение матрицы\n"
   ]
  },
  {
   "cell_type": "code",
   "execution_count": 34,
   "metadata": {},
   "outputs": [
    {
     "name": "stdout",
     "output_type": "stream",
     "text": [
      "Обратная матрица:  [[-1.66666667  1.33333333]\n",
      " [ 0.66666667 -0.33333333]]\n"
     ]
    }
   ],
   "source": [
    "import numpy as np\n",
    "\n",
    "matrix20 = np.array([[1, 4],\n",
    "                     [2, 5]])\n",
    "\n",
    "# Вычислить обратную матрицу\n",
    "print('Обратная матрица: ', np.linalg.inv(matrix20))"
   ]
  },
  {
   "cell_type": "markdown",
   "metadata": {},
   "source": [
    "# 1.21 Генерирование случайных значений\n"
   ]
  },
  {
   "cell_type": "code",
   "execution_count": 42,
   "metadata": {},
   "outputs": [],
   "source": [
    "import numpy as np\n",
    "\n",
    "# Задать начальное значение для генератора псевдослучайных чисел\n",
    "np.random.seed(0)"
   ]
  },
  {
   "cell_type": "code",
   "execution_count": 37,
   "metadata": {},
   "outputs": [
    {
     "name": "stdout",
     "output_type": "stream",
     "text": [
      "Три случайных ВЕЩЕСТВЕННЫХ числа между 0 и 1:  [0.33739616 0.64817187 0.36824154]\n"
     ]
    }
   ],
   "source": [
    "# Сгенерировать три случайных ВЕЩЕСТВЕННЫХ числа между 0 и 1\n",
    "print('Три случайных ВЕЩЕСТВЕННЫХ числа между 0 и 1: ', np.random.random(3))"
   ]
  },
  {
   "cell_type": "code",
   "execution_count": 38,
   "metadata": {},
   "outputs": [
    {
     "name": "stdout",
     "output_type": "stream",
     "text": [
      "Три случайных ЦЕЛЫХ числа между 1 и 10:  [5 0 2]\n"
     ]
    }
   ],
   "source": [
    "# Сгенерировать три случайных ЦЕЛЫХ числа между 1 и 10\n",
    "print('Три случайных ЦЕЛЫХ числа между 1 и 10: ', np.random.randint(0, 11, 3))"
   ]
  },
  {
   "cell_type": "code",
   "execution_count": 39,
   "metadata": {},
   "outputs": [
    {
     "name": "stdout",
     "output_type": "stream",
     "text": [
      "Три числа из нормального распределения со средним равным 0 и стандартным отклонением равным 1:  [-0.13309028  1.41437719 -0.12405066]\n"
     ]
    }
   ],
   "source": [
    "# Извлечь три числа из нормального распределения со средним равным 0 и стандартным отклонением равным 1\n",
    "print('Три числа из нормального распределения со средним равным 0 и стандартным отклонением равным 1: ', np.random.normal(0.0, 1.0, 3))"
   ]
  },
  {
   "cell_type": "code",
   "execution_count": 40,
   "metadata": {},
   "outputs": [
    {
     "name": "stdout",
     "output_type": "stream",
     "text": [
      "Три числа из логистического распределения со средним равным 0 и масштабом равным 1:  [0.08195576 0.74862734 0.94760195]\n"
     ]
    }
   ],
   "source": [
    "# Извлечь три числа из логистического распределения со средним равным 0 и масштабом равным 1\n",
    "print('Три числа из логистического распределения со средним равным 0 и масштабом равным 1: ', np.random.logistic(0, 1, 3))"
   ]
  },
  {
   "cell_type": "code",
   "execution_count": 41,
   "metadata": {},
   "outputs": [
    {
     "name": "stdout",
     "output_type": "stream",
     "text": [
      "Три числа, которые больше или равны 1 и меньше 2:  [1.58201979 1.53737323 1.75861562]\n"
     ]
    }
   ],
   "source": [
    "# Извлечь три числа, которые больше или равны 1 и меньше 2\n",
    "print('Три числа, которые больше или равны 1 и меньше 2: ', np.random.uniform(1, 2, 3))"
   ]
  }
 ],
 "metadata": {
  "kernelspec": {
   "display_name": "Python 3",
   "language": "python",
   "name": "python3"
  },
  "language_info": {
   "codemirror_mode": {
    "name": "ipython",
    "version": 3
   },
   "file_extension": ".py",
   "mimetype": "text/x-python",
   "name": "python",
   "nbconvert_exporter": "python",
   "pygments_lexer": "ipython3",
   "version": "3.11.2"
  }
 },
 "nbformat": 4,
 "nbformat_minor": 2
}
