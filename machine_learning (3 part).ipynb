{
 "cells": [
  {
   "cell_type": "markdown",
   "metadata": {},
   "source": [
    "# Глава 3: Упорядочение данных\n",
    "\n",
    "\n",
    "Введение: \n",
    "Упорядочение данных — термин, охватывающий широкий диапазон тем и часто неофициально используемый для описания процесса преобразования сырых данных в чистый и организованный формат, готовый к использованию. Для нас упорядочение данных — это лишь один из шагов в предобработке данных, но это важный шаг.\n",
    "\n",
    "Наиболее распространенной структурой данных, используемой для \"упорядо­ чения\", является фрейм данных, который может быть и интуитивно понятным, и невероятно универсальным. Фреймы данных являются табличными, т.е. они основаны на строках и столбцах, какие вы встречаете в электронной таблице. При­ ведем фрейм данных, созданный из данных о пассажирах на \"Титанике\""
   ]
  },
  {
   "cell_type": "markdown",
   "metadata": {},
   "source": [
    "# 3.1 Создание фрейма данных и 3.2 Описание данных\n",
    "\n"
   ]
  },
  {
   "cell_type": "code",
   "execution_count": null,
   "metadata": {},
   "outputs": [],
   "source": [
    "import pandas as pd\n",
    "\n",
    "# Создать фрейм данных DataFrame\n",
    "dataframe = pd.DataFrame()\n",
    "\n",
    "# Добавить столбцы\n",
    "dataframe['Имя'] = ['Никита Боков', 'Рома Алиев']\n",
    "dataframe['Возраст'] = [18, 17]\n",
    "dataframe['Водитель'] = [True, False]\n",
    "dataframe['Гендер'] = dataframe['Мужчина']\n",
    "print(dataframe)\n",
    "\n",
    "# Создать строку и добавить её в конец фрейма данных\n",
    "dataframe.loc[len(dataframe.index)] = ['Анна Буланникова', 17, True, 'Девушка']\n",
    "dataframe.loc[len(dataframe.index)] = ['Гриша Боков', 13, False, 'Мужчина']\n",
    "\n",
    "# Взглянуть на фрейм данных\n",
    "print(dataframe)"
   ]
  },
  {
   "cell_type": "markdown",
   "metadata": {},
   "source": [
    "# НАЧАЛО 3.2 ПУНКТА\n"
   ]
  },
  {
   "cell_type": "code",
   "execution_count": 22,
   "metadata": {},
   "outputs": [
    {
     "name": "stdout",
     "output_type": "stream",
     "text": [
      "Имя         Никита Боков\n",
      "Возраст               18\n",
      "Водитель            True\n",
      "Name: 0, dtype: object\n",
      "            Имя  Возраст  Водитель\n",
      "0  Никита Боков       18      True\n",
      "1    Рома Алиев       17     False\n",
      "(2, 3)\n",
      "         Возраст\n",
      "count   2.000000\n",
      "mean   17.500000\n",
      "std     0.707107\n",
      "min    17.000000\n",
      "25%    17.250000\n",
      "50%    17.500000\n",
      "75%    17.750000\n",
      "max    18.000000\n"
     ]
    }
   ],
   "source": [
    "# Взглянуть на первую строку фрейма данных\n",
    "print(dataframe.iloc[0])\n",
    "\n",
    "# Взглянуть на первые две строки\n",
    "print(dataframe.head(2))\n",
    "\n",
    "# Взглянуть на размерность матрицы\n",
    "print(dataframe.shape)\n",
    "\n",
    "# Взглянуть на статистику\n",
    "print(dataframe.describe())\n"
   ]
  },
  {
   "cell_type": "markdown",
   "metadata": {},
   "source": [
    "# 3.2 Навигация по фреймам данных\n"
   ]
  },
  {
   "cell_type": "code",
   "execution_count": 24,
   "metadata": {},
   "outputs": [
    {
     "name": "stdout",
     "output_type": "stream",
     "text": [
      "                   Имя  Возраст  Водитель\n",
      "Имя                                      \n",
      "Рома Алиев  Рома Алиев       17     False\n",
      "                       Имя  Возраст  Водитель\n",
      "Имя                                          \n",
      "Никита Боков  Никита Боков       18      True\n",
      "Рома Алиев      Рома Алиев       17     False\n",
      "Имя         Никита Боков\n",
      "Возраст               18\n",
      "Водитель            True\n",
      "Name: Никита Боков, dtype: object\n"
     ]
    }
   ],
   "source": [
    "# Выбрать три строки\n",
    "print(dataframe.iloc[1:4])\n",
    "\n",
    "# Выбрать четыре строки\n",
    "print(dataframe.iloc[:4])\n",
    "\n",
    "# Задать индекс для поиска значений чего-либо (Имя)\n",
    "dataframe = dataframe.set_index(dataframe['Имя'])\n",
    "\n",
    "# Показать строку с нужным значением\n",
    "print(dataframe.loc['Никита Боков'])\n"
   ]
  },
  {
   "cell_type": "markdown",
   "metadata": {},
   "source": [
    "# 3.4 Выбор строк на основе условных конструкций\n"
   ]
  },
  {
   "cell_type": "code",
   "execution_count": 25,
   "metadata": {},
   "outputs": [
    {
     "name": "stdout",
     "output_type": "stream",
     "text": [
      "                   Имя  Возраст  Водитель\n",
      "Имя                                      \n",
      "Рома Алиев  Рома Алиев       17     False\n",
      "                       Имя  Возраст  Водитель\n",
      "Имя                                          \n",
      "Никита Боков  Никита Боков       18      True\n"
     ]
    }
   ],
   "source": [
    "# Показать верхние две строки, где столбец 'Возраст' равняется 17\n",
    "print(dataframe[dataframe['Возраст'] == 17].head(2))\n",
    "\n",
    "# Отфильтровать строки по нужным значениям\n",
    "print(dataframe[(dataframe['Возраст'] == 18) & (dataframe['Водитель'] == True)])"
   ]
  },
  {
   "cell_type": "markdown",
   "metadata": {},
   "source": [
    "# 3.5 Замена значений\n"
   ]
  },
  {
   "cell_type": "code",
   "execution_count": 26,
   "metadata": {},
   "outputs": [
    {
     "name": "stdout",
     "output_type": "stream",
     "text": [
      "Имя\n",
      "Никита Боков    Nikita Bokov\n",
      "Рома Алиев        Рома Алиев\n",
      "Name: Имя, dtype: object\n",
      "                       Имя  Возраст Водитель\n",
      "Имя                                         \n",
      "Никита Боков  Никита Боков       18      Yes\n",
      "Рома Алиев      Рома Алиев       17    False\n",
      "                       Имя  Возраст  Водитель\n",
      "Имя                                          \n",
      "Никита Боков  Никита Боков       18      True\n",
      "Рома Алиев      Рома Алиев       17     False\n"
     ]
    }
   ],
   "source": [
    "# Заменить значения, показать две строки (1)\n",
    "print((dataframe['Имя'].replace('Никита Боков', 'Nikita Bokov').head(2)))\n",
    "\n",
    "# Заменить значения, показать две строки (2)\n",
    "print(dataframe.replace(True, 'Yes'))\n",
    "\n",
    "# Заменить значения, показать две строки (3)\n",
    "print(dataframe.replace(r'lst', 'First', regex=True).head(2))\n"
   ]
  },
  {
   "cell_type": "markdown",
   "metadata": {},
   "source": [
    "# 3.6 Переименовывание столбцов\n"
   ]
  },
  {
   "cell_type": "code",
   "execution_count": 27,
   "metadata": {},
   "outputs": [
    {
     "name": "stdout",
     "output_type": "stream",
     "text": [
      "                       Имя  Age  Водитель\n",
      "Имя                                      \n",
      "Никита Боков  Никита Боков   18      True\n",
      "Рома Алиев      Рома Алиев   17     False\n",
      "                      Name  Возраст  Driver\n",
      "Имя                                        \n",
      "Никита Боков  Никита Боков       18    True\n",
      "Рома Алиев      Рома Алиев       17   False\n",
      "defaultdict(<class 'str'>, {'Имя': '', 'Возраст': '', 'Водитель': ''})\n"
     ]
    }
   ],
   "source": [
    "# Переименовать столбец и показать его изменения\n",
    "print(dataframe.rename(columns={'Возраст': 'Age'}))\n",
    "\n",
    "# Переименовать несколько столбцов и показать его изменения\n",
    "print(dataframe.rename(columns={'Водитель': 'Driver', 'Имя': 'Name'}))\n",
    "\n",
    "# Загрузить библиотеку collections\n",
    "import collections\n",
    "\n",
    "# Создать словарь\n",
    "column_names = collections.defaultdict(str)\n",
    "\n",
    "# Создать ключи\n",
    "for name in dataframe.columns:\n",
    "    column_names[name]\n",
    "print(column_names)"
   ]
  },
  {
   "cell_type": "markdown",
   "metadata": {},
   "source": [
    "# 3.7 Нахождение минимума, максимума, суммы, среднего арифметического и количества\n"
   ]
  },
  {
   "cell_type": "code",
   "execution_count": 28,
   "metadata": {},
   "outputs": [
    {
     "name": "stdout",
     "output_type": "stream",
     "text": [
      "Максимум: 18\n",
      "Минимум: 17\n",
      "Cреднее: 0.7071067811865476\n",
      "Сумма: 35\n",
      "Количество: 2\n"
     ]
    }
   ],
   "source": [
    "# Вычислить статистические показатели\n",
    "print('Максимум:', dataframe['Возраст'].max())\n",
    "print('Минимум:', dataframe['Возраст'].min())\n",
    "print('Cреднее:', dataframe['Возраст'].std())\n",
    "print('Сумма:', dataframe['Возраст'].sum())\n",
    "print('Количество:', dataframe['Возраст'].count())"
   ]
  },
  {
   "cell_type": "code",
   "execution_count": 29,
   "metadata": {},
   "outputs": [
    {
     "name": "stdout",
     "output_type": "stream",
     "text": [
      "Имя         2\n",
      "Возраст     2\n",
      "Водитель    2\n",
      "dtype: int64\n"
     ]
    }
   ],
   "source": [
    "# Показать количества значений\n",
    "print(dataframe.count())"
   ]
  },
  {
   "cell_type": "markdown",
   "metadata": {},
   "source": [
    "# 3.8 Нахождение уникальных значений\n"
   ]
  },
  {
   "cell_type": "code",
   "execution_count": 30,
   "metadata": {},
   "outputs": [
    {
     "name": "stdout",
     "output_type": "stream",
     "text": [
      "['Никита Боков' 'Рома Алиев']\n",
      "Возраст\n",
      "18    1\n",
      "17    1\n",
      "Name: count, dtype: int64\n",
      "2\n"
     ]
    }
   ],
   "source": [
    "# Выбрать уникальные значения\n",
    "print(dataframe['Имя'].unique())\n",
    "\n",
    "# Показать количества появлений\n",
    "print(dataframe['Возраст'].value_counts())\n",
    "\n",
    "# Показать количество уникальных значений по нужному параметру\n",
    "print(dataframe['Возраст'].nunique())"
   ]
  },
  {
   "cell_type": "markdown",
   "metadata": {},
   "source": [
    "# 3.9 Отбор недостающих значений\n"
   ]
  },
  {
   "cell_type": "code",
   "execution_count": null,
   "metadata": {},
   "outputs": [],
   "source": [
    "# Выбрать пропущенные значения и показать их\n",
    "print(dataframe[dataframe['Возраст'].isnull()])\n",
    "\n",
    "# Попытаться заменить пропущенные значения с NaN (Заранее не выйдет, т.к нужно импортировать библиотеку)\n",
    "dataframe['Гендер'] = dataframe['Гендер'].replace['Мужчина', Nan]\n",
    "print(dataframe)\n",
    "\n",
    "import pandas as np\n",
    "\n",
    "# Заменить значения с NaN\n",
    "dataframe['Гендер'] = dataframe['Гендер'].replace('Мужчина', np.NaT)\n",
    "print(dataframe)"
   ]
  },
  {
   "cell_type": "markdown",
   "metadata": {},
   "source": [
    "# 3.10 Удаление столбцов\n"
   ]
  },
  {
   "cell_type": "code",
   "execution_count": null,
   "metadata": {},
   "outputs": [],
   "source": [
    "# Удалить столбец по заданному параметру\n",
    "dataframe = dataframe.drop('Возраст', axis=1)\n",
    "print(dataframe)\n",
    "\n",
    "# Отбросить столбцы по заданному параметру\n",
    "dataframe = dataframe.drop(['Имя', 'Возраст'], axis=1)\n",
    "print(dataframe)\n",
    "\n",
    "# Отбросить стобец по индексу (можно использовать такой метод,если неизвестно название столбца)\n",
    "dataframe_drop_column = dataframe.drop(dataframe.columns[1], axis=1)\n",
    "print(dataframe_drop_column)\n",
    "\n",
    "# Создать новую переменную, для того чтобы не менять основной фрейм данных и рассмотреть его изменения в отдельной переменной\n",
    "dataframe_name_dropped = dataframe.drop(dataframe.columns[0], axis=1)\n",
    "print(dataframe_name_dropped)"
   ]
  },
  {
   "cell_type": "markdown",
   "metadata": {},
   "source": [
    "# 3.11 Удаление строки\n"
   ]
  },
  {
   "cell_type": "code",
   "execution_count": null,
   "metadata": {},
   "outputs": [],
   "source": [
    "# Удалить строки по заданному параметру\n",
    "dataframe_drop_stroku = dataframe[dataframe['Гендер'] != 'Мужчина']\n",
    "print(dataframe_drop_stroku)\n",
    "\n",
    "# Удалить строку по уникальному значению\n",
    "dataframe_drop_poimeni = dataframe[dataframe['Имя'] != 'Гриша Боков']\n",
    "print(dataframe_drop_poimeni)\n",
    "\n",
    "# Удалить строку по индексу\n",
    "dataframe_drop_poindeksu = dataframe[dataframe.index != 0]\n",
    "print(dataframe_drop_poindeksu)"
   ]
  },
  {
   "cell_type": "markdown",
   "metadata": {},
   "source": [
    "# 3.12 Удаление повторяющихся строк\n"
   ]
  },
  {
   "cell_type": "code",
   "execution_count": null,
   "metadata": {},
   "outputs": [],
   "source": [
    "# Удалить дубликаты\n",
    "dataframe_dublicates = dataframe.drop_duplicates()\n",
    "print(dataframe_dublicates)\n",
    "\n",
    "# Показать количество строк в исходном фрейме данных\n",
    "print('Количество строк в исходном фрейме данных:', len(dataframe))\n",
    "\n",
    "# Показать количество строк после дубликации\n",
    "print('Количество строк в после дубликации:', len(dataframe.drop_duplicates()))\n",
    "\n",
    "# Удалить дубликаты (Метод показывает первое появление уникального элемента, а остальные отбрасывает)\n",
    "print(dataframe.drop_duplicates(subset=['Гендер']))\n",
    "\n",
    "# Удалить дубликаты применив метод, позволяющий выбирать по какому критерию будет отбрасывать\n",
    "print(dataframe.drop_duplicates(subset=['Возраст'], keep='last'))\n",
    "\n",
    "# Посмотреть на каких позициях по счёту нах-ся в фрейме данных\n",
    "print(dataframe.duplicated())"
   ]
  },
  {
   "cell_type": "markdown",
   "metadata": {},
   "source": [
    "# 3.13 Группирование строк по значениям (Смотри Notion,у тебя мало данных)\n"
   ]
  },
  {
   "cell_type": "code",
   "execution_count": null,
   "metadata": {},
   "outputs": [],
   "source": [
    "# Сгруппировать строки по значениям столбца 'Возраст', вычислить среднее каждой группы\n",
    "print(dataframe.groupby('Возраст').mean())\n",
    "\n",
    "# Сгруппировать строки, подсчитать строки\n",
    "print(dataframe.groupby('Водитель')['Имя'].count())\n",
    "\n",
    "# Сгруппировать строки, вычислить среднее\n",
    "print(dataframe.groupby(['Имя', 'Водитель'])['Возраст'].mean())"
   ]
  },
  {
   "cell_type": "markdown",
   "metadata": {},
   "source": [
    "# 3.14 Группирование строк по значениям времени\n"
   ]
  },
  {
   "cell_type": "code",
   "execution_count": 41,
   "metadata": {},
   "outputs": [
    {
     "name": "stdout",
     "output_type": "stream",
     "text": [
      "            Sale_Amount\n",
      "2017-06-11        86639\n",
      "2017-06-18       100905\n",
      "2017-06-25       100216\n",
      "2017-07-02       101258\n",
      "2017-07-09       100827\n",
      "2017-07-16        10266\n",
      "            Sale_Amount\n",
      "2017-06-11     5.013831\n",
      "2017-06-25     4.988120\n",
      "2017-07-09     5.012029\n",
      "2017-07-23     4.935577\n",
      "            Sale_Amount\n",
      "2017-06-30        72000\n",
      "2017-07-31        28000\n",
      "            Sale_Amount\n",
      "2017-05-31        72000\n",
      "2017-06-30        28000\n"
     ]
    },
    {
     "name": "stderr",
     "output_type": "stream",
     "text": [
      "/var/folders/ym/1stkpf9161g9k_wbnvf_4jrh0000gn/T/ipykernel_39900/4019872181.py:5: FutureWarning: 'S' is deprecated and will be removed in a future version, please use 's' instead.\n",
      "  time_index = pd.date_range('06/06/2017', periods=100000, freq='30S')\n",
      "/var/folders/ym/1stkpf9161g9k_wbnvf_4jrh0000gn/T/ipykernel_39900/4019872181.py:21: FutureWarning: 'M' is deprecated and will be removed in a future version, please use 'ME' instead.\n",
      "  print(dataframe1.resample('M').count())\n",
      "/var/folders/ym/1stkpf9161g9k_wbnvf_4jrh0000gn/T/ipykernel_39900/4019872181.py:24: FutureWarning: 'M' is deprecated and will be removed in a future version, please use 'ME' instead.\n",
      "  print(dataframe1.resample('M',label='left').count())\n"
     ]
    }
   ],
   "source": [
    "import pandas as pd\n",
    "import numpy as np\n",
    "\n",
    "# Создать диапазон дат\n",
    "time_index = pd.date_range('06/06/2017', periods=100000, freq='30S')\n",
    "\n",
    "# Создать фрейм данных\n",
    "dataframe1 = pd.DataFrame(index=time_index)\n",
    "\n",
    "# Создать столбец случайных значений со значением суммы продаж\n",
    "dataframe1['Sale_Amount'] = np.random.randint(1, 10, 100000)\n",
    "\n",
    "\n",
    "# Сгруппировать строки по неделе, вычислить сумму за неделю\n",
    "print(dataframe1.resample('W').sum())\n",
    "\n",
    "# Сгруппировать строки по двум неделям, вычилсить сумму за эти две недели\n",
    "print(dataframe1.resample('2W').mean())\n",
    "\n",
    "# Сгруппировать по месяцу, посчитать строки\n",
    "print(dataframe1.resample('M').count())\n",
    "\n",
    "# Сгруппировать по месяцу с помощью метода label, подсчитать строки\n",
    "print(dataframe1.resample('M',label='left').count())"
   ]
  },
  {
   "cell_type": "markdown",
   "metadata": {},
   "source": [
    "# 3.15 Обход столба в цикле\n"
   ]
  },
  {
   "cell_type": "code",
   "execution_count": 42,
   "metadata": {},
   "outputs": [
    {
     "name": "stdout",
     "output_type": "stream",
     "text": [
      "НИКИТА БОКОВ\n",
      "РОМА АЛИЕВ\n",
      "['НИКИТА БОКОВ', 'РОМА АЛИЕВ']\n"
     ]
    }
   ],
   "source": [
    "# Напечатать первые два имени в верхнем регистре\n",
    "for name in dataframe['Имя'][0:2]:\n",
    "    print(name.upper())\n",
    "\n",
    "# Альтернативный способ вывода двух имен в верхнем регистре\n",
    "print([name.upper() for name in dataframe['Имя'][0:2]])"
   ]
  },
  {
   "cell_type": "markdown",
   "metadata": {},
   "source": [
    "# 3.16 Применение функции ко всем эл-ам в столбце\n"
   ]
  },
  {
   "cell_type": "code",
   "execution_count": 43,
   "metadata": {},
   "outputs": [
    {
     "name": "stdout",
     "output_type": "stream",
     "text": [
      "Имя\n",
      "Никита Боков    НИКИТА БОКОВ\n",
      "Рома Алиев        РОМА АЛИЕВ\n",
      "Name: Имя, dtype: object\n"
     ]
    }
   ],
   "source": [
    "# Создать функцию\n",
    "\n",
    "def appercase(x):\n",
    "    return x.upper()\n",
    "\n",
    "\n",
    "# Применить функцию, показать две строки\n",
    "print(dataframe['Имя'].apply(appercase)[0:2])"
   ]
  },
  {
   "cell_type": "markdown",
   "metadata": {},
   "source": [
    "# 3.17 Применение функций к группам (Считает кол-во гендеров и выводит их кол-во)\n"
   ]
  },
  {
   "cell_type": "code",
   "execution_count": null,
   "metadata": {},
   "outputs": [],
   "source": [
    "print(dataframe.groupby('Гендер').apply(lambda x: x.count()))"
   ]
  },
  {
   "cell_type": "markdown",
   "metadata": {},
   "source": [
    "# 3.18 Конкатенация фреймов данных\n"
   ]
  },
  {
   "cell_type": "code",
   "execution_count": 46,
   "metadata": {},
   "outputs": [],
   "source": [
    "import pandas as pd\n",
    "\n",
    "# Создать фреймы данных\n",
    "data_a = {'id': ['1', '2', '3'],\n",
    "          'first': ['Женя', 'Ира', 'Гриша'],\n",
    "          'last': ['Паша', 'Вера', 'Полина']}\n",
    "dataframe_a = pd.DataFrame(data_a, columns=['id', 'first', 'last'])\n",
    "\n",
    "data_b = {'id': ['4', '5', '6'],\n",
    "          'first': ['Никита', 'Аня', 'Эльдар'],\n",
    "          'last': ['Костя', 'Рома', 'Саша']}\n",
    "dataframe_b = pd.DataFrame(data_b, columns=['id', 'first', 'last'])"
   ]
  },
  {
   "cell_type": "code",
   "execution_count": 47,
   "metadata": {},
   "outputs": [
    {
     "name": "stdout",
     "output_type": "stream",
     "text": [
      "  id   first    last\n",
      "0  1    Женя    Паша\n",
      "1  2     Ира    Вера\n",
      "2  3   Гриша  Полина\n",
      "0  4  Никита   Костя\n",
      "1  5     Аня    Рома\n",
      "2  6  Эльдар    Саша\n"
     ]
    }
   ],
   "source": [
    "# Объеденить фреймы данных по строкам (Конкатенировать)\n",
    "print(pd.concat([dataframe_a, dataframe_b], axis=0))"
   ]
  },
  {
   "cell_type": "code",
   "execution_count": 48,
   "metadata": {},
   "outputs": [
    {
     "name": "stdout",
     "output_type": "stream",
     "text": [
      "  id  first    last id   first   last\n",
      "0  1   Женя    Паша  4  Никита  Костя\n",
      "1  2    Ира    Вера  5     Аня   Рома\n",
      "2  3  Гриша  Полина  6  Эльдар   Саша\n"
     ]
    }
   ],
   "source": [
    "# Объеденить фреймы данных по столбцам (Конкатенировать)\n",
    "print(pd.concat([dataframe_a, dataframe_b], axis=1))"
   ]
  },
  {
   "cell_type": "code",
   "execution_count": 50,
   "metadata": {},
   "outputs": [
    {
     "data": {
      "text/html": [
       "<div>\n",
       "<style scoped>\n",
       "    .dataframe tbody tr th:only-of-type {\n",
       "        vertical-align: middle;\n",
       "    }\n",
       "\n",
       "    .dataframe tbody tr th {\n",
       "        vertical-align: top;\n",
       "    }\n",
       "\n",
       "    .dataframe thead th {\n",
       "        text-align: right;\n",
       "    }\n",
       "</style>\n",
       "<table border=\"1\" class=\"dataframe\">\n",
       "  <thead>\n",
       "    <tr style=\"text-align: right;\">\n",
       "      <th></th>\n",
       "      <th>id</th>\n",
       "      <th>first</th>\n",
       "      <th>last</th>\n",
       "    </tr>\n",
       "  </thead>\n",
       "  <tbody>\n",
       "    <tr>\n",
       "      <th>0</th>\n",
       "      <td>1</td>\n",
       "      <td>Женя</td>\n",
       "      <td>Паша</td>\n",
       "    </tr>\n",
       "    <tr>\n",
       "      <th>1</th>\n",
       "      <td>2</td>\n",
       "      <td>Ира</td>\n",
       "      <td>Вера</td>\n",
       "    </tr>\n",
       "    <tr>\n",
       "      <th>2</th>\n",
       "      <td>3</td>\n",
       "      <td>Гриша</td>\n",
       "      <td>Полина</td>\n",
       "    </tr>\n",
       "    <tr>\n",
       "      <th>3</th>\n",
       "      <td>7</td>\n",
       "      <td>Вадим</td>\n",
       "      <td>Сергей</td>\n",
       "    </tr>\n",
       "    <tr>\n",
       "      <th>4</th>\n",
       "      <td>7</td>\n",
       "      <td>Вадим</td>\n",
       "      <td>Сергей</td>\n",
       "    </tr>\n",
       "  </tbody>\n",
       "</table>\n",
       "</div>"
      ],
      "text/plain": [
       "  id  first    last\n",
       "0  1   Женя    Паша\n",
       "1  2    Ира    Вера\n",
       "2  3  Гриша  Полина\n",
       "3  7  Вадим  Сергей\n",
       "4  7  Вадим  Сергей"
      ]
     },
     "execution_count": 50,
     "metadata": {},
     "output_type": "execute_result"
    }
   ],
   "source": [
    "# Создать строку и добавить её в конец фрейма данных\n",
    "dataframe_a.loc[len(dataframe_a.index)] = [7, 'Вадим', 'Сергей']\n",
    "dataframe_a\n"
   ]
  },
  {
   "cell_type": "markdown",
   "metadata": {},
   "source": [
    "# 3.19 Слияние фреймов данных\n"
   ]
  },
  {
   "cell_type": "code",
   "execution_count": 51,
   "metadata": {},
   "outputs": [
    {
     "name": "stdout",
     "output_type": "stream",
     "text": [
      "  employee_id  total sales\n",
      "0           3        23456\n",
      "1           4         2512\n",
      "2           5         7890\n",
      "3           6         1455\n"
     ]
    }
   ],
   "source": [
    "# Создать фрейм данных с данными людей\n",
    "import pandas as pd\n",
    "\n",
    "employee_data = {'employee_id': ['1', '2', '3', '4'],\n",
    "                 'name': ['Nikita', 'Anna', 'Roma', 'Kostya']}\n",
    "\n",
    "dataframe_employees = pd.DataFrame(employee_data, columns=['employee_id', 'name'])\n",
    "\n",
    "# Создать фрейм данных с данными о продажах людей\n",
    "sales_data = {'employee_id': ['3', '4', '5', '6'],\n",
    "              'total sales': [23456, 2512, 7890, 1455]}\n",
    "dataframe_sales = pd.DataFrame(sales_data, columns=['employee_id', 'total sales'])\n",
    "print(dataframe_sales)\n",
    "\n",
    "\n"
   ]
  },
  {
   "cell_type": "code",
   "execution_count": 52,
   "metadata": {},
   "outputs": [
    {
     "name": "stdout",
     "output_type": "stream",
     "text": [
      "  employee_id    name  total sales\n",
      "0           3    Roma        23456\n",
      "1           4  Kostya         2512\n"
     ]
    }
   ],
   "source": [
    "# Выполнить слияние фреймов данных (Посмотрит 'employee_id' и вернет значения и сделает их одним целым фреймом)\n",
    "print(pd.merge(dataframe_employees, dataframe_sales, on='employee_id'))"
   ]
  },
  {
   "cell_type": "code",
   "execution_count": 54,
   "metadata": {},
   "outputs": [
    {
     "name": "stdout",
     "output_type": "stream",
     "text": [
      "  employee_id    name  total sales\n",
      "0           1  Nikita          NaN\n",
      "1           2    Anna          NaN\n",
      "2           3    Roma      23456.0\n",
      "3           4  Kostya       2512.0\n",
      "4           5     NaN       7890.0\n",
      "5           6     NaN       1455.0\n"
     ]
    }
   ],
   "source": [
    "# Выполнить внешнее слияние фреймов данных (Сделает единым оба фрейма данных)\n",
    "print(pd.merge(dataframe_employees, dataframe_sales, on='employee_id', how='outer'))"
   ]
  }
 ],
 "metadata": {
  "kernelspec": {
   "display_name": "Python 3",
   "language": "python",
   "name": "python3"
  },
  "language_info": {
   "codemirror_mode": {
    "name": "ipython",
    "version": 3
   },
   "file_extension": ".py",
   "mimetype": "text/x-python",
   "name": "python",
   "nbconvert_exporter": "python",
   "pygments_lexer": "ipython3",
   "version": "3.11.2"
  }
 },
 "nbformat": 4,
 "nbformat_minor": 2
}
